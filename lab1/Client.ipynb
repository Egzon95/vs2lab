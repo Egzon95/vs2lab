{
 "cells": [
  {
   "cell_type": "markdown",
   "metadata": {},
   "source": [
    "# Running server and client in separate notebooks - client part\n",
    "\n",
    "Here we start the client. The server needs to be started first. Lets go...."
   ]
  },
  {
   "cell_type": "code",
   "execution_count": 1,
   "metadata": {
    "scrolled": true
   },
   "outputs": [
    {
     "name": "stdout",
     "output_type": "stream",
     "text": [
      "Hello, I am the Client\n"
     ]
    }
   ],
   "source": [
    "import clientserver # import from our script\n",
    "\n",
    "client = clientserver.Client() # Create a client instance"
   ]
  },
  {
   "cell_type": "markdown",
   "metadata": {},
   "source": [
    "Connecting to the Server"
   ]
  },
  {
   "cell_type": "code",
   "execution_count": 2,
   "metadata": {
    "scrolled": false
   },
   "outputs": [
    {
     "name": "stdout",
     "output_type": "stream",
     "text": [
      "[CONNECTING]\n",
      "[CONNECTED] to: 127.0.0.1Port: 50007\n"
     ]
    },
    {
     "data": {
      "text/plain": [
       "True"
      ]
     },
     "execution_count": 2,
     "metadata": {},
     "output_type": "execute_result"
    }
   ],
   "source": [
    "client.connect()"
   ]
  },
  {
   "cell_type": "markdown",
   "metadata": {},
   "source": [
    "Trying a getall request"
   ]
  },
  {
   "cell_type": "code",
   "execution_count": 3,
   "metadata": {
    "scrolled": true
   },
   "outputs": [
    {
     "name": "stdout",
     "output_type": "stream",
     "text": [
      "\n",
      "[GETALL] starting GETALL \n",
      "    [TYPE] Sending server the GETALL_MESSAGE: GETALL\n",
      "    [ANSWER_LENGTH] 10527\n",
      "    [Answer] {'James': 235007, 'Luke': 571708, 'Holy': 839655, 'Maria': 229351, 'Noah': 123456, 'Egzon': 666666, 'Yannik': 180546, 'Julian': 555555, 'nbjjdxmxcvhc': 1, 'tjhfixdzclaa': 2, 'ynlqsjchbogs': 3, 'piggvhtzpujc': 4, 'qutqtjhihrly': 5, 'zysteudvynjl': 6, 'sohshwcujlas': 7, 'cfgctbrfvaut': 8, 'kgmoqnlzalpy': 9, 'ccsbhzdsvjkp': 10, 'fxjqygzbraqp': 11, 'qyiudynwudcm': 12, 'wwcdzsfvonav': 13, 'ffggsxslobpm': 14, 'ptfasakotvrn': 15, 'fgkofxbkdvzb': 16, 'wpqfqcqhdnlv': 17, 'glbqpeosrsfd': 18, 'xrqgunqmvsea': 19, 'urihnihzdjhd': 20, 'gsnygtszeruu': 21, 'mnnwqcajhmbd': 22, 'vqgztbhrmkfy': 23, 'hsabbttusxgs': 24, 'mgyosorqwlvh': 25, 'seysipegefyy': 26, 'aikwnbqsiudo': 27, 'cksrdxqdjzjj': 28, 'wqmtckqskabf': 29, 'wrfftivnmvqq': 30, 'sbxejsivjycr': 31, 'qmcearmjqmcx': 32, 'bmuoozunzdjw': 33, 'fomswxoppvje': 34, 'kixhpryejzyr': 35, 'shxxenaibrzb': 36, 'aezteivdshjf': 37, 'ayxngiilgdvy': 38, 'wrpwrpmcqtlf': 39, 'mizfhelaukou': 40, 'bxepgbluhcas': 41, 'sbpcbzzewgvm': 42, 'hsgifoxgqbtm': 43, 'akyyyrpgjcti': 44, 'fukgmgfnvgsz': 45, 'edguvlwhxfgt': 46, 'npwfiaajelkc': 47, 'nabwetamjzlb': 48, 'youbfrxpvtuh': 49, 'grlmuuoatqpy': 50, 'rvldtqvluedw': 51, 'whkjiaqkwqur': 52, 'opyxatqyionc': 53, 'fkukqydlakzf': 54, 'xbbtspiwkmwi': 55, 'iegecpybpvmr': 56, 'gznzbzrbdovt': 57, 'dluqiubqsqyh': 58, 'zmqnffwynaxa': 59, 'gsrvkqgnzdud': 60, 'vhqndqjdpdhn': 61, 'avsvnwgobmsg': 62, 'bocudnecbjlc': 63, 'wupttmcpbkln': 64, 'emmskqmawswr': 65, 'tvgeaisbdofj': 66, 'jbpvasypsxgb': 67, 'mmevbuekedbx': 68, 'cffufrkvngzx': 69, 'cqwnxdmsozdy': 70, 'cfpbcupansti': 71, 'tpspyaohxjvu': 72, 'wcbzwmtbqrdy': 73, 'zsndfpsklyhm': 74, 'kspbxewsbnnw': 75, 'bzowmkhbjfum': 76, 'nebenaluyhev': 77, 'mhmbvdlhbnkw': 78, 'ippejavcsufs': 79, 'mzcpllfhkfom': 80, 'fcgacmnaztqi': 81, 'avnikvcowidp': 82, 'smgofjpqqabm': 83, 'nzwummrlumqw': 84, 'zmcaidzvkxah': 85, 'eadsukdavnbi': 86, 'ymdpvlppabml': 87, 'slftxydgllho': 88, 'btfisyrdvfrv': 89, 'gcfwaiwustzi': 90, 'edehzsnxmqqj': 91, 'ymvhefqcjzpu': 92, 'rvnamqcdkkle': 93, 'cvexvptettze': 94, 'xhsmolqtozco': 95, 'uywfsbgjgyes': 96, 'yjhryovpwddc': 97, 'lsglbrwbswul': 98, 'gcpzaidyacts': 99, 'urcnccdqzxpy': 100, 'qhcvyirkcfin': 101, 'nivycbibpgwb': 102, 'tzgqxlzmogfb': 103, 'ufrbgogtzceb': 104, 'xfowdidexcts': 105, 'vbenxpbrfvgg': 106, 'tddfsevmvkhz': 107, 'guzshgrudbey': 108, 'asjywdcpkezc': 109, 'dozhxkrufrsx': 110, 'bpleplsggkni': 111, 'moxbblrfzhag': 112, 'mtrapeuhzqnh': 113, 'itlobbgayhtw': 114, 'ekevixkscsnl': 115, 'kchshzupmhkb': 116, 'fzzuexucsioe': 117, 'hmftuksudxfg': 118, 'jstzlyeymfua': 119, 'jvvvjghvjogs': 120, 'bioxndixxwzk': 121, 'yosguuujultb': 122, 'xqikjobwaljc': 123, 'smarcxuovvti': 124, 'whbtelwxnczn': 125, 'guvzsqulnfpe': 126, 'mezwihvtxjoy': 127, 'ciuiaifjmael': 128, 'oabjbliqxmap': 129, 'lwmnitvjgzlz': 130, 'brewqkqrsvwo': 131, 'bwfbryqouvbk': 132, 'ihmxxfvvjjhs': 133, 'wixhtlultwbl': 134, 'mcyegspgfgwx': 135, 'fcqfcdxyobal': 136, 'hsanmvohuchr': 137, 'atutzxjvzhpg': 138, 'amzrsirydrjp': 139, 'errlrwmboobn': 140, 'kvsegmdibapr': 141, 'ughilrnsjgmq': 142, 'mxjivmatsljn': 143, 'lujodwhacjku': 144, 'abwbjirxrmue': 145, 'uhsqbbtjcpxn': 146, 'efzurduumfeg': 147, 'nakvvticsgis': 148, 'vzchywpftaer': 149, 'ozytwqzrduux': 150, 'inpxsqxxetra': 151, 'fyuvrijgiwyr': 152, 'vilawzgqweuv': 153, 'leudqfpayjpl': 154, 'dknqtqylbkjj': 155, 'fghdfsyuuasl': 156, 'smdakpctmmss': 157, 'pudxgkrukrqb': 158, 'jpfsprzgnlwr': 159, 'acucjrqempaj': 160, 'gnwojgctuqak': 161, 'gwgfmxgypnqb': 162, 'phxfpobdhsmc': 163, 'wieiqjlitkmd': 164, 'dbgzvnitabsc': 165, 'kppcmethpnns': 166, 'vwolpofbrvyr': 167, 'goqrbjqasueh': 168, 'zjxmgdcbidoe': 169, 'dxmepfvqjwvo': 170, 'tcuxfzjhxcda': 171, 'wdjqxtuokxbr': 172, 'fdstteiigjwd': 173, 'rwrvevfkxuoy': 174, 'ckitmzhyxykv': 175, 'ubpluejuhjlo': 176, 'mgvjoscobykd': 177, 'jtqqgvscltvt': 178, 'vpzponhmaxfe': 179, 'khymsupxfqrz': 180, 'fplygfrouidw': 181, 'rowkakizlyyq': 182, 'jfeusqsrrzgo': 183, 'apjfrycisjsm': 184, 'bwmarsjrczmh': 185, 'ihmwpeulwaho': 186, 'nraokwubtwvs': 187, 'dszgikykucna': 188, 'ybfalouyjjrh': 189, 'mfviexuzhcrc': 190, 'hgbowqskzvun': 191, 'eikzygkkdigs': 192, 'hauwfqoiatoc': 193, 'cfpvaikogkdd': 194, 'tlufybvlkcxt': 195, 'nufjlvxxcpea': 196, 'cemxolykdtpb': 197, 'wrmbyxbsumtx': 198, 'ospdcjkvqvvb': 199, 'bqrjqnacviam': 200, 'vdcrtyszvihm': 201, 'ylheunjdhwtk': 202, 'auehaipwofru': 203, 'znbvpifcphoq': 204, 'zkirbdozbplf': 205, 'bavkmhjzcfpw': 206, 'blgkfqncmpnf': 207, 'vguvvmyqkvib': 208, 'tbxclosebocl': 209, 'twxwjnebpdtq': 210, 'amdeyodxncht': 211, 'yusdlhqscnou': 212, 'cpixeenkifwx': 213, 'bnoopdllqoux': 214, 'lradrbmcrxol': 215, 'yoylkiomfrgp': 216, 'loqfilmexmda': 217, 'wrqycqhxootn': 218, 'tsoejghjvocq': 219, 'dojpwrhixgct': 220, 'ibfiprpbewmz': 221, 'hzypypkcggib': 222, 'yesfbdnrajro': 223, 'pcduondgaveb': 224, 'xlkximicuioh': 225, 'grffnvaxfjqx': 226, 'kqguhhbeoajv': 227, 'rwqxmzcucgxq': 228, 'lxkteobwjriq': 229, 'htgysyzgchmn': 230, 'iwictftanajx': 231, 'eutqrkbvtlvv': 232, 'vmxvdxfqggdf': 233, 'iosqjadlbmdn': 234, 'jzdfqymoacqy': 235, 'zgaokprtpfce': 236, 'vtlrvybodubx': 237, 'ldefuicjdadx': 238, 'hatmnrdkvcaj': 239, 'ymjpnayfgwhg': 240, 'zcymevnurrit': 241, 'wvhlyuiptvgy': 242, 'ykerslxphyjo': 243, 'shvuqflzsqtp': 244, 'uyslkafejiac': 245, 'dmnlzovvamoz': 246, 'ecwlkeiasnde': 247, 'runlnkwraoba': 248, 'skmferulgvtv': 249, 'ddzaxfzrkjqc': 250, 'elwkuwkwykpc': 251, 'llmhthdkohrp': 252, 'nyeztypxdrzj': 253, 'wudcmzavftkz': 254, 'apbucrktsmcw': 255, 'tkdbfxmlsmzj': 256, 'xkczhidnbxax': 257, 'mcfifkunhvtn': 258, 'qgxpasypvyvf': 259, 'qolbvivtccnt': 260, 'hlqueodgwuuh': 261, 'cjxommebveic': 262, 'cshicwyxfqai': 263, 'bgbqayqucpcq': 264, 'jgwediqbvrcg': 265, 'vftefeotihrw': 266, 'ulzugiygthok': 267, 'brncoafzdwvr': 268, 'zfekubpbjgvm': 269, 'slfayctcxhax': 270, 'icqfkilvliee': 271, 'oqevdkakmbol': 272, 'ifbcizktrbud': 273, 'ubqroblviwms': 274, 'qamrjbkfxkyw': 275, 'nkjeyonagaos': 276, 'tltrufmbiell': 277, 'zfqjnphhfjnu': 278, 'nbkfuehoptra': 279, 'kkdedxigccyl': 280, 'thhgikeizyow': 281, 'nvbbxsxdpqel': 282, 'mbzriqrvmujn': 283, 'xbdmjfgqpvrj': 284, 'obkajqgzkyvh': 285, 'rwwtxkdoowcc': 286, 'vllveuoypook': 287, 'sjevaidqbrbb': 288, 'hhgzudjcifrp': 289, 'ldmoceqdshfq': 290, 'jbuqwezpsmcv': 291, 'ugmfhbftvfvr': 292, 'exkajmsfhjwd': 293, 'jzchrjjpfqsf': 294, 'gpspohdyhdzz': 295, 'hkdarcrphfjj': 296, 'remqeowzgmjn': 297, 'dcuetlqzixda': 298, 'frehenrylchj': 299, 'niqsrynhgqac': 300, 'kembjxospmbz': 301, 'nskaasckzrck': 302, 'mhohzbfkjtlj': 303, 'tdldzkmwxwum': 304, 'nxixpwfmstxq': 305, 'vdtztbdftvse': 306, 'wqdjlklnxvwn': 307, 'xrnuzaqgihqx': 308, 'omnfovuiizvz': 309, 'vzuxgjwshvye': 310, 'rkeoydvojysi': 311, 'viubzcmnynks': 312, 'hktzpuawwkzp': 313, 'zrtgkyozrmav': 314, 'erfexgqgmqmp': 315, 'pauwnokuajal': 316, 'imjamusemqhr': 317, 'piszejugwcpl': 318, 'plrtbsiocyrj': 319, 'imzbwrvvgigt': 320, 'mmvvlbhmslmc': 321, 'avpeeqtwlsql': 322, 'inqdujjbtnbw': 323, 'xzefomwghawb': 324, 'qisxcgdawrhl': 325, 'lhaccigmjfhm': 326, 'ihbzdlhywbot': 327, 'ymgequsmivku': 328, 'vztpzgtugkdc': 329, 'akdqknsdtfbj': 330, 'ylrnpnrecife': 331, 'muhnbcbcwamr': 332, 'aozwcrbsbhfn': 333, 'zcyljifrdkgm': 334, 'dktykrkhvwwl': 335, 'cytvyzmfdegp': 336, 'ysmkpxhexerh': 337, 'ibpuyjrxyrpq': 338, 'nvmoiulzghbe': 339, 'xxtbrnxzwxjj': 340, 'ueaxrcqknafc': 341, 'teiehwjffiec': 342, 'fyjvlphdddlh': 343, 'dbsimarqrunn': 344, 'vcsbrdmbmggh': 345, 'hsvalxabuaqf': 346, 'kfdcmztjayvu': 347, 'cllkyqzpevtr': 348, 'rtuxwtrodmsb': 349, 'znksraoabkaq': 350, 'uhabmbeonqvo': 351, 'rjuubhcziltd': 352, 'urhqlnopgiaq': 353, 'dvywtpispitx': 354, 'ghqarfqksblq': 355, 'ggjbjtrfaotn': 356, 'thdcpjitiaqi': 357, 'gvxzlhnpliyr': 358, 'fbkcglftknjm': 359, 'zojuasdofpwf': 360, 'gipollzocyzp': 361, 'lnpcdmulkkoy': 362, 'embbkhdgppod': 363, 'aryvvriiqrsi': 364, 'kxcvzrfwahlh': 365, 'jkrxgoeeennt': 366, 'luiobbuwquxe': 367, 'gvhxonpglyew': 368, 'orxdqyioojve': 369, 'vavfcjvthwau': 370, 'rhuwlhzitneo': 371, 'tgpsgacviqhb': 372, 'ahsynedosptv': 373, 'ggdhctubktfg': 374, 'uirkcibrdgwv': 375, 'trmwegzengii': 376, 'wowoxtfkolci': 377, 'wodrugwcztbb': 378, 'zbodzffxtrst': 379, 'ngywqsmhtjra': 380, 'reeeavvwfmpw': 381, 'hsixvvqfltzx': 382, 'tiehbsepytok': 383, 'quyomyxbweoa': 384, 'gaeeyzcskimn': 385, 'jqwwqexgmqgg': 386, 'vmrtcedcmbno': 387, 'hlhhcghbezbf': 388, 'tapkjgdraymf': 389, 'rojfngomqeoy': 390, 'gexuhlctbduq': 391, 'bagvjqwotfph': 392, 'vmysjjeofxsw': 393, 'yefmrjagxsap': 394, 'legccohdxues': 395, 'uvqgzcanqdoz': 396, 'cdvmpwgvebrj': 397, 'mujowohjxyem': 398, 'uhimwglbuigy': 399, 'oyhtpxqshihz': 400, 'cnajcbwuncxd': 401, 'ofnucdvuxsot': 402, 'zphtkabglton': 403, 'zqumbfpevxey': 404, 'wbauubykftsq': 405, 'xxhyqrtutilj': 406, 'zhnhdhcqdrtw': 407, 'qixbejntzqhw': 408, 'fyowmjbcqlro': 409, 'cnbzowrbaffu': 410, 'auexlbsifwty': 411, 'ulfgckoksgnf': 412, 'fkhtyhwxwdis': 413, 'iagxazhhvonv': 414, 'xtiajzszjbns': 415, 'ergyhblztkxe': 416, 'fwrkvotjicej': 417, 'arhakhwtdida': 418, 'rktjxinxzbpm': 419, 'aulokleyskai': 420, 'igvixyugowld': 421, 'yrihccoecjez': 422, 'ufgyyyxdzoql': 423, 'odnhkucguivu': 424, 'xpirzhkcmugh': 425, 'omkkhfjkyqkx': 426, 'sqmibpzbkktx': 427, 'trhgjphrbhad': 428, 'lecjnjjrzuac': 429, 'eerpyjizmicy': 430, 'bgngqqpscezn': 431, 'mbxzoqlhiopw': 432, 'wxxuxfojhezf': 433, 'bexidqaqayrq': 434, 'iycvylzvbjhn': 435, 'eprlhumvmanj': 436, 'yneykzdhygdx': 437, 'otoxhsjknatv': 438, 'nyyybvlucowq': 439, 'zueonruzxfex': 440, 'phlvbtrsfxro': 441, 'nfdsjadzwfsd': 442, 'aqcimjpojemw': 443, 'hvelumlfgdrq': 444, 'qiaymflddcep': 445, 'gazrwrojgmbo': 446, 'owzfdzxvfbns': 447, 'vlwahpiujetm': 448, 'uddxphtvsgui': 449, 'phawnvjtsrhr': 450, 'docauvhsduwq': 451, 'nvnuwsxjrzkn': 452, 'ychxjgoswoxo': 453, 'jgsdklpxweat': 454, 'zjzmwoksepmj': 455, 'pavnudmfnvuy': 456, 'ngeazjkaekif': 457, 'wckogkbidjzo': 458, 'mdfovqxsudjh': 459, 'etelqgvlijfk': 460, 'xyxeealyndxf': 461, 'ezgvnfizjhtk': 462, 'tgpsuivpxpmd': 463, 'vfykleqibans': 464, 'uamwbyvxfjom': 465, 'zvifthipgbyi': 466, 'vtwcytobemnr': 467, 'wsoejznbkrmm': 468, 'ddflgbeklshp': 469, 'sdgwxckeihyd': 470, 'jhimnropvban': 471, 'cdfkhxaswmqa': 472, 'zajplokjgqan': 473, 'npctzzocnbzx': 474, 'pdoxdwhldhnb': 475, 'mqgnwptmgckg': 476, 'brqqbejrjgkv': 477, 'jgmwtxgedhlw': 478, 'ihiibtoabkep': 479, 'hjsdkejmbvps': 480, 'fywewpotownk': 481, 'eegmdawdyvwg': 482, 'qiutslzqyltw': 483, 'vnoimhzjsacy': 484, 'atfruacellxr': 485, 'qtcbasnydark': 486, 'dgjhuexudfbi': 487, 'rtksskqndhob': 488, 'nipcexplyqjo': 489, 'wfjmcqgafzci': 490, 'bvyeiiswyacx': 491, 'hstegkjkjzrh': 492, 'grlhgcditdbx': 493, 'jtundmdyqqrj': 494, 'bprqzaoqfvsn': 495, 'ryqxoahcyqwc': 496, 'ckhmhiswmmxl': 497, 'nymkrrmpkhun': 498, 'jfarrfytmxez': 499, 'jklayqjbxwlx': 500}\n"
     ]
    },
    {
     "data": {
      "text/plain": [
       "\"{'James': 235007, 'Luke': 571708, 'Holy': 839655, 'Maria': 229351, 'Noah': 123456, 'Egzon': 666666, 'Yannik': 180546, 'Julian': 555555, 'nbjjdxmxcvhc': 1, 'tjhfixdzclaa': 2, 'ynlqsjchbogs': 3, 'piggvhtzpujc': 4, 'qutqtjhihrly': 5, 'zysteudvynjl': 6, 'sohshwcujlas': 7, 'cfgctbrfvaut': 8, 'kgmoqnlzalpy': 9, 'ccsbhzdsvjkp': 10, 'fxjqygzbraqp': 11, 'qyiudynwudcm': 12, 'wwcdzsfvonav': 13, 'ffggsxslobpm': 14, 'ptfasakotvrn': 15, 'fgkofxbkdvzb': 16, 'wpqfqcqhdnlv': 17, 'glbqpeosrsfd': 18, 'xrqgunqmvsea': 19, 'urihnihzdjhd': 20, 'gsnygtszeruu': 21, 'mnnwqcajhmbd': 22, 'vqgztbhrmkfy': 23, 'hsabbttusxgs': 24, 'mgyosorqwlvh': 25, 'seysipegefyy': 26, 'aikwnbqsiudo': 27, 'cksrdxqdjzjj': 28, 'wqmtckqskabf': 29, 'wrfftivnmvqq': 30, 'sbxejsivjycr': 31, 'qmcearmjqmcx': 32, 'bmuoozunzdjw': 33, 'fomswxoppvje': 34, 'kixhpryejzyr': 35, 'shxxenaibrzb': 36, 'aezteivdshjf': 37, 'ayxngiilgdvy': 38, 'wrpwrpmcqtlf': 39, 'mizfhelaukou': 40, 'bxepgbluhcas': 41, 'sbpcbzzewgvm': 42, 'hsgifoxgqbtm': 43, 'akyyyrpgjcti': 44, 'fukgmgfnvgsz': 45, 'edguvlwhxfgt': 46, 'npwfiaajelkc': 47, 'nabwetamjzlb': 48, 'youbfrxpvtuh': 49, 'grlmuuoatqpy': 50, 'rvldtqvluedw': 51, 'whkjiaqkwqur': 52, 'opyxatqyionc': 53, 'fkukqydlakzf': 54, 'xbbtspiwkmwi': 55, 'iegecpybpvmr': 56, 'gznzbzrbdovt': 57, 'dluqiubqsqyh': 58, 'zmqnffwynaxa': 59, 'gsrvkqgnzdud': 60, 'vhqndqjdpdhn': 61, 'avsvnwgobmsg': 62, 'bocudnecbjlc': 63, 'wupttmcpbkln': 64, 'emmskqmawswr': 65, 'tvgeaisbdofj': 66, 'jbpvasypsxgb': 67, 'mmevbuekedbx': 68, 'cffufrkvngzx': 69, 'cqwnxdmsozdy': 70, 'cfpbcupansti': 71, 'tpspyaohxjvu': 72, 'wcbzwmtbqrdy': 73, 'zsndfpsklyhm': 74, 'kspbxewsbnnw': 75, 'bzowmkhbjfum': 76, 'nebenaluyhev': 77, 'mhmbvdlhbnkw': 78, 'ippejavcsufs': 79, 'mzcpllfhkfom': 80, 'fcgacmnaztqi': 81, 'avnikvcowidp': 82, 'smgofjpqqabm': 83, 'nzwummrlumqw': 84, 'zmcaidzvkxah': 85, 'eadsukdavnbi': 86, 'ymdpvlppabml': 87, 'slftxydgllho': 88, 'btfisyrdvfrv': 89, 'gcfwaiwustzi': 90, 'edehzsnxmqqj': 91, 'ymvhefqcjzpu': 92, 'rvnamqcdkkle': 93, 'cvexvptettze': 94, 'xhsmolqtozco': 95, 'uywfsbgjgyes': 96, 'yjhryovpwddc': 97, 'lsglbrwbswul': 98, 'gcpzaidyacts': 99, 'urcnccdqzxpy': 100, 'qhcvyirkcfin': 101, 'nivycbibpgwb': 102, 'tzgqxlzmogfb': 103, 'ufrbgogtzceb': 104, 'xfowdidexcts': 105, 'vbenxpbrfvgg': 106, 'tddfsevmvkhz': 107, 'guzshgrudbey': 108, 'asjywdcpkezc': 109, 'dozhxkrufrsx': 110, 'bpleplsggkni': 111, 'moxbblrfzhag': 112, 'mtrapeuhzqnh': 113, 'itlobbgayhtw': 114, 'ekevixkscsnl': 115, 'kchshzupmhkb': 116, 'fzzuexucsioe': 117, 'hmftuksudxfg': 118, 'jstzlyeymfua': 119, 'jvvvjghvjogs': 120, 'bioxndixxwzk': 121, 'yosguuujultb': 122, 'xqikjobwaljc': 123, 'smarcxuovvti': 124, 'whbtelwxnczn': 125, 'guvzsqulnfpe': 126, 'mezwihvtxjoy': 127, 'ciuiaifjmael': 128, 'oabjbliqxmap': 129, 'lwmnitvjgzlz': 130, 'brewqkqrsvwo': 131, 'bwfbryqouvbk': 132, 'ihmxxfvvjjhs': 133, 'wixhtlultwbl': 134, 'mcyegspgfgwx': 135, 'fcqfcdxyobal': 136, 'hsanmvohuchr': 137, 'atutzxjvzhpg': 138, 'amzrsirydrjp': 139, 'errlrwmboobn': 140, 'kvsegmdibapr': 141, 'ughilrnsjgmq': 142, 'mxjivmatsljn': 143, 'lujodwhacjku': 144, 'abwbjirxrmue': 145, 'uhsqbbtjcpxn': 146, 'efzurduumfeg': 147, 'nakvvticsgis': 148, 'vzchywpftaer': 149, 'ozytwqzrduux': 150, 'inpxsqxxetra': 151, 'fyuvrijgiwyr': 152, 'vilawzgqweuv': 153, 'leudqfpayjpl': 154, 'dknqtqylbkjj': 155, 'fghdfsyuuasl': 156, 'smdakpctmmss': 157, 'pudxgkrukrqb': 158, 'jpfsprzgnlwr': 159, 'acucjrqempaj': 160, 'gnwojgctuqak': 161, 'gwgfmxgypnqb': 162, 'phxfpobdhsmc': 163, 'wieiqjlitkmd': 164, 'dbgzvnitabsc': 165, 'kppcmethpnns': 166, 'vwolpofbrvyr': 167, 'goqrbjqasueh': 168, 'zjxmgdcbidoe': 169, 'dxmepfvqjwvo': 170, 'tcuxfzjhxcda': 171, 'wdjqxtuokxbr': 172, 'fdstteiigjwd': 173, 'rwrvevfkxuoy': 174, 'ckitmzhyxykv': 175, 'ubpluejuhjlo': 176, 'mgvjoscobykd': 177, 'jtqqgvscltvt': 178, 'vpzponhmaxfe': 179, 'khymsupxfqrz': 180, 'fplygfrouidw': 181, 'rowkakizlyyq': 182, 'jfeusqsrrzgo': 183, 'apjfrycisjsm': 184, 'bwmarsjrczmh': 185, 'ihmwpeulwaho': 186, 'nraokwubtwvs': 187, 'dszgikykucna': 188, 'ybfalouyjjrh': 189, 'mfviexuzhcrc': 190, 'hgbowqskzvun': 191, 'eikzygkkdigs': 192, 'hauwfqoiatoc': 193, 'cfpvaikogkdd': 194, 'tlufybvlkcxt': 195, 'nufjlvxxcpea': 196, 'cemxolykdtpb': 197, 'wrmbyxbsumtx': 198, 'ospdcjkvqvvb': 199, 'bqrjqnacviam': 200, 'vdcrtyszvihm': 201, 'ylheunjdhwtk': 202, 'auehaipwofru': 203, 'znbvpifcphoq': 204, 'zkirbdozbplf': 205, 'bavkmhjzcfpw': 206, 'blgkfqncmpnf': 207, 'vguvvmyqkvib': 208, 'tbxclosebocl': 209, 'twxwjnebpdtq': 210, 'amdeyodxncht': 211, 'yusdlhqscnou': 212, 'cpixeenkifwx': 213, 'bnoopdllqoux': 214, 'lradrbmcrxol': 215, 'yoylkiomfrgp': 216, 'loqfilmexmda': 217, 'wrqycqhxootn': 218, 'tsoejghjvocq': 219, 'dojpwrhixgct': 220, 'ibfiprpbewmz': 221, 'hzypypkcggib': 222, 'yesfbdnrajro': 223, 'pcduondgaveb': 224, 'xlkximicuioh': 225, 'grffnvaxfjqx': 226, 'kqguhhbeoajv': 227, 'rwqxmzcucgxq': 228, 'lxkteobwjriq': 229, 'htgysyzgchmn': 230, 'iwictftanajx': 231, 'eutqrkbvtlvv': 232, 'vmxvdxfqggdf': 233, 'iosqjadlbmdn': 234, 'jzdfqymoacqy': 235, 'zgaokprtpfce': 236, 'vtlrvybodubx': 237, 'ldefuicjdadx': 238, 'hatmnrdkvcaj': 239, 'ymjpnayfgwhg': 240, 'zcymevnurrit': 241, 'wvhlyuiptvgy': 242, 'ykerslxphyjo': 243, 'shvuqflzsqtp': 244, 'uyslkafejiac': 245, 'dmnlzovvamoz': 246, 'ecwlkeiasnde': 247, 'runlnkwraoba': 248, 'skmferulgvtv': 249, 'ddzaxfzrkjqc': 250, 'elwkuwkwykpc': 251, 'llmhthdkohrp': 252, 'nyeztypxdrzj': 253, 'wudcmzavftkz': 254, 'apbucrktsmcw': 255, 'tkdbfxmlsmzj': 256, 'xkczhidnbxax': 257, 'mcfifkunhvtn': 258, 'qgxpasypvyvf': 259, 'qolbvivtccnt': 260, 'hlqueodgwuuh': 261, 'cjxommebveic': 262, 'cshicwyxfqai': 263, 'bgbqayqucpcq': 264, 'jgwediqbvrcg': 265, 'vftefeotihrw': 266, 'ulzugiygthok': 267, 'brncoafzdwvr': 268, 'zfekubpbjgvm': 269, 'slfayctcxhax': 270, 'icqfkilvliee': 271, 'oqevdkakmbol': 272, 'ifbcizktrbud': 273, 'ubqroblviwms': 274, 'qamrjbkfxkyw': 275, 'nkjeyonagaos': 276, 'tltrufmbiell': 277, 'zfqjnphhfjnu': 278, 'nbkfuehoptra': 279, 'kkdedxigccyl': 280, 'thhgikeizyow': 281, 'nvbbxsxdpqel': 282, 'mbzriqrvmujn': 283, 'xbdmjfgqpvrj': 284, 'obkajqgzkyvh': 285, 'rwwtxkdoowcc': 286, 'vllveuoypook': 287, 'sjevaidqbrbb': 288, 'hhgzudjcifrp': 289, 'ldmoceqdshfq': 290, 'jbuqwezpsmcv': 291, 'ugmfhbftvfvr': 292, 'exkajmsfhjwd': 293, 'jzchrjjpfqsf': 294, 'gpspohdyhdzz': 295, 'hkdarcrphfjj': 296, 'remqeowzgmjn': 297, 'dcuetlqzixda': 298, 'frehenrylchj': 299, 'niqsrynhgqac': 300, 'kembjxospmbz': 301, 'nskaasckzrck': 302, 'mhohzbfkjtlj': 303, 'tdldzkmwxwum': 304, 'nxixpwfmstxq': 305, 'vdtztbdftvse': 306, 'wqdjlklnxvwn': 307, 'xrnuzaqgihqx': 308, 'omnfovuiizvz': 309, 'vzuxgjwshvye': 310, 'rkeoydvojysi': 311, 'viubzcmnynks': 312, 'hktzpuawwkzp': 313, 'zrtgkyozrmav': 314, 'erfexgqgmqmp': 315, 'pauwnokuajal': 316, 'imjamusemqhr': 317, 'piszejugwcpl': 318, 'plrtbsiocyrj': 319, 'imzbwrvvgigt': 320, 'mmvvlbhmslmc': 321, 'avpeeqtwlsql': 322, 'inqdujjbtnbw': 323, 'xzefomwghawb': 324, 'qisxcgdawrhl': 325, 'lhaccigmjfhm': 326, 'ihbzdlhywbot': 327, 'ymgequsmivku': 328, 'vztpzgtugkdc': 329, 'akdqknsdtfbj': 330, 'ylrnpnrecife': 331, 'muhnbcbcwamr': 332, 'aozwcrbsbhfn': 333, 'zcyljifrdkgm': 334, 'dktykrkhvwwl': 335, 'cytvyzmfdegp': 336, 'ysmkpxhexerh': 337, 'ibpuyjrxyrpq': 338, 'nvmoiulzghbe': 339, 'xxtbrnxzwxjj': 340, 'ueaxrcqknafc': 341, 'teiehwjffiec': 342, 'fyjvlphdddlh': 343, 'dbsimarqrunn': 344, 'vcsbrdmbmggh': 345, 'hsvalxabuaqf': 346, 'kfdcmztjayvu': 347, 'cllkyqzpevtr': 348, 'rtuxwtrodmsb': 349, 'znksraoabkaq': 350, 'uhabmbeonqvo': 351, 'rjuubhcziltd': 352, 'urhqlnopgiaq': 353, 'dvywtpispitx': 354, 'ghqarfqksblq': 355, 'ggjbjtrfaotn': 356, 'thdcpjitiaqi': 357, 'gvxzlhnpliyr': 358, 'fbkcglftknjm': 359, 'zojuasdofpwf': 360, 'gipollzocyzp': 361, 'lnpcdmulkkoy': 362, 'embbkhdgppod': 363, 'aryvvriiqrsi': 364, 'kxcvzrfwahlh': 365, 'jkrxgoeeennt': 366, 'luiobbuwquxe': 367, 'gvhxonpglyew': 368, 'orxdqyioojve': 369, 'vavfcjvthwau': 370, 'rhuwlhzitneo': 371, 'tgpsgacviqhb': 372, 'ahsynedosptv': 373, 'ggdhctubktfg': 374, 'uirkcibrdgwv': 375, 'trmwegzengii': 376, 'wowoxtfkolci': 377, 'wodrugwcztbb': 378, 'zbodzffxtrst': 379, 'ngywqsmhtjra': 380, 'reeeavvwfmpw': 381, 'hsixvvqfltzx': 382, 'tiehbsepytok': 383, 'quyomyxbweoa': 384, 'gaeeyzcskimn': 385, 'jqwwqexgmqgg': 386, 'vmrtcedcmbno': 387, 'hlhhcghbezbf': 388, 'tapkjgdraymf': 389, 'rojfngomqeoy': 390, 'gexuhlctbduq': 391, 'bagvjqwotfph': 392, 'vmysjjeofxsw': 393, 'yefmrjagxsap': 394, 'legccohdxues': 395, 'uvqgzcanqdoz': 396, 'cdvmpwgvebrj': 397, 'mujowohjxyem': 398, 'uhimwglbuigy': 399, 'oyhtpxqshihz': 400, 'cnajcbwuncxd': 401, 'ofnucdvuxsot': 402, 'zphtkabglton': 403, 'zqumbfpevxey': 404, 'wbauubykftsq': 405, 'xxhyqrtutilj': 406, 'zhnhdhcqdrtw': 407, 'qixbejntzqhw': 408, 'fyowmjbcqlro': 409, 'cnbzowrbaffu': 410, 'auexlbsifwty': 411, 'ulfgckoksgnf': 412, 'fkhtyhwxwdis': 413, 'iagxazhhvonv': 414, 'xtiajzszjbns': 415, 'ergyhblztkxe': 416, 'fwrkvotjicej': 417, 'arhakhwtdida': 418, 'rktjxinxzbpm': 419, 'aulokleyskai': 420, 'igvixyugowld': 421, 'yrihccoecjez': 422, 'ufgyyyxdzoql': 423, 'odnhkucguivu': 424, 'xpirzhkcmugh': 425, 'omkkhfjkyqkx': 426, 'sqmibpzbkktx': 427, 'trhgjphrbhad': 428, 'lecjnjjrzuac': 429, 'eerpyjizmicy': 430, 'bgngqqpscezn': 431, 'mbxzoqlhiopw': 432, 'wxxuxfojhezf': 433, 'bexidqaqayrq': 434, 'iycvylzvbjhn': 435, 'eprlhumvmanj': 436, 'yneykzdhygdx': 437, 'otoxhsjknatv': 438, 'nyyybvlucowq': 439, 'zueonruzxfex': 440, 'phlvbtrsfxro': 441, 'nfdsjadzwfsd': 442, 'aqcimjpojemw': 443, 'hvelumlfgdrq': 444, 'qiaymflddcep': 445, 'gazrwrojgmbo': 446, 'owzfdzxvfbns': 447, 'vlwahpiujetm': 448, 'uddxphtvsgui': 449, 'phawnvjtsrhr': 450, 'docauvhsduwq': 451, 'nvnuwsxjrzkn': 452, 'ychxjgoswoxo': 453, 'jgsdklpxweat': 454, 'zjzmwoksepmj': 455, 'pavnudmfnvuy': 456, 'ngeazjkaekif': 457, 'wckogkbidjzo': 458, 'mdfovqxsudjh': 459, 'etelqgvlijfk': 460, 'xyxeealyndxf': 461, 'ezgvnfizjhtk': 462, 'tgpsuivpxpmd': 463, 'vfykleqibans': 464, 'uamwbyvxfjom': 465, 'zvifthipgbyi': 466, 'vtwcytobemnr': 467, 'wsoejznbkrmm': 468, 'ddflgbeklshp': 469, 'sdgwxckeihyd': 470, 'jhimnropvban': 471, 'cdfkhxaswmqa': 472, 'zajplokjgqan': 473, 'npctzzocnbzx': 474, 'pdoxdwhldhnb': 475, 'mqgnwptmgckg': 476, 'brqqbejrjgkv': 477, 'jgmwtxgedhlw': 478, 'ihiibtoabkep': 479, 'hjsdkejmbvps': 480, 'fywewpotownk': 481, 'eegmdawdyvwg': 482, 'qiutslzqyltw': 483, 'vnoimhzjsacy': 484, 'atfruacellxr': 485, 'qtcbasnydark': 486, 'dgjhuexudfbi': 487, 'rtksskqndhob': 488, 'nipcexplyqjo': 489, 'wfjmcqgafzci': 490, 'bvyeiiswyacx': 491, 'hstegkjkjzrh': 492, 'grlhgcditdbx': 493, 'jtundmdyqqrj': 494, 'bprqzaoqfvsn': 495, 'ryqxoahcyqwc': 496, 'ckhmhiswmmxl': 497, 'nymkrrmpkhun': 498, 'jfarrfytmxez': 499, 'jklayqjbxwlx': 500}\""
      ]
     },
     "execution_count": 3,
     "metadata": {},
     "output_type": "execute_result"
    }
   ],
   "source": [
    "client.getall()"
   ]
  },
  {
   "cell_type": "markdown",
   "metadata": {},
   "source": [
    "Trying succesful get request"
   ]
  },
  {
   "cell_type": "code",
   "execution_count": 4,
   "metadata": {
    "scrolled": true
   },
   "outputs": [
    {
     "name": "stdout",
     "output_type": "stream",
     "text": [
      "\n",
      "[GET] starting GET request with: Noah\n",
      "    [TYPE] Sending server the GET_MESSAGE: GET\n",
      "    [LENGTH] Sending server the length: 4\n",
      "    [NAME] Sending server the name: Noah\n",
      "    [ANSWER_LENGTH] 6\n",
      "    [Answer] 123456\n"
     ]
    },
    {
     "data": {
      "text/plain": [
       "'123456'"
      ]
     },
     "execution_count": 4,
     "metadata": {},
     "output_type": "execute_result"
    }
   ],
   "source": [
    "client.get(\"Noah\")"
   ]
  },
  {
   "cell_type": "markdown",
   "metadata": {},
   "source": [
    "Trying unsuccesful get request"
   ]
  },
  {
   "cell_type": "code",
   "execution_count": 5,
   "metadata": {
    "scrolled": true
   },
   "outputs": [
    {
     "name": "stdout",
     "output_type": "stream",
     "text": [
      "\n",
      "[GET] starting GET request with: Exx0n\n",
      "    [TYPE] Sending server the GET_MESSAGE: GET\n",
      "    [LENGTH] Sending server the length: 5\n",
      "    [NAME] Sending server the name: Exx0n\n",
      "    [ANSWER_LENGTH] 9\n",
      "    [Answer] No Result\n"
     ]
    },
    {
     "data": {
      "text/plain": [
       "'No Result'"
      ]
     },
     "execution_count": 5,
     "metadata": {},
     "output_type": "execute_result"
    }
   ],
   "source": [
    "client.get(\"Exx0n\")"
   ]
  },
  {
   "cell_type": "markdown",
   "metadata": {},
   "source": [
    "Disconnecting from server"
   ]
  },
  {
   "cell_type": "code",
   "execution_count": 6,
   "metadata": {},
   "outputs": [
    {
     "name": "stdout",
     "output_type": "stream",
     "text": [
      "\n",
      "[DISCONNECT] starting DISCONNECT \n",
      "    [TYPE] Sending server the DISCONNECT_MESSAGE: !DISCONNECT\n"
     ]
    },
    {
     "data": {
      "text/plain": [
       "True"
      ]
     },
     "execution_count": 6,
     "metadata": {},
     "output_type": "execute_result"
    }
   ],
   "source": [
    "client.disconnect()"
   ]
  },
  {
   "cell_type": "markdown",
   "metadata": {},
   "source": [
    "Connecting again"
   ]
  },
  {
   "cell_type": "code",
   "execution_count": 7,
   "metadata": {},
   "outputs": [
    {
     "name": "stdout",
     "output_type": "stream",
     "text": [
      "[CONNECTING]\n",
      "[CONNECTED] to: 127.0.0.1Port: 50007\n"
     ]
    },
    {
     "data": {
      "text/plain": [
       "True"
      ]
     },
     "execution_count": 7,
     "metadata": {},
     "output_type": "execute_result"
    }
   ],
   "source": [
    "client.connect()"
   ]
  },
  {
   "cell_type": "markdown",
   "metadata": {},
   "source": [
    "Get request"
   ]
  },
  {
   "cell_type": "code",
   "execution_count": 8,
   "metadata": {},
   "outputs": [
    {
     "name": "stdout",
     "output_type": "stream",
     "text": [
      "\n",
      "[GET] starting GET request with: Egzon\n",
      "    [TYPE] Sending server the GET_MESSAGE: GET\n",
      "    [LENGTH] Sending server the length: 5\n",
      "    [NAME] Sending server the name: Egzon\n",
      "    [ANSWER_LENGTH] 6\n",
      "    [Answer] 666666\n"
     ]
    },
    {
     "data": {
      "text/plain": [
       "'666666'"
      ]
     },
     "execution_count": 8,
     "metadata": {},
     "output_type": "execute_result"
    }
   ],
   "source": [
    "client.get(\"Egzon\")"
   ]
  },
  {
   "cell_type": "markdown",
   "metadata": {},
   "source": [
    "Disconnecting"
   ]
  },
  {
   "cell_type": "code",
   "execution_count": 9,
   "metadata": {},
   "outputs": [
    {
     "name": "stdout",
     "output_type": "stream",
     "text": [
      "\n",
      "[DISCONNECT] starting DISCONNECT \n",
      "    [TYPE] Sending server the DISCONNECT_MESSAGE: !DISCONNECT\n"
     ]
    },
    {
     "data": {
      "text/plain": [
       "True"
      ]
     },
     "execution_count": 9,
     "metadata": {},
     "output_type": "execute_result"
    }
   ],
   "source": [
    "client.disconnect()"
   ]
  },
  {
   "cell_type": "code",
   "execution_count": null,
   "metadata": {},
   "outputs": [],
   "source": []
  }
 ],
 "metadata": {
  "kernelspec": {
   "display_name": "Python 3",
   "language": "python",
   "name": "python3"
  },
  "language_info": {
   "codemirror_mode": {
    "name": "ipython",
    "version": 3
   },
   "file_extension": ".py",
   "mimetype": "text/x-python",
   "name": "python",
   "nbconvert_exporter": "python",
   "pygments_lexer": "ipython3",
   "version": "3.6.9"
  }
 },
 "nbformat": 4,
 "nbformat_minor": 2
}
